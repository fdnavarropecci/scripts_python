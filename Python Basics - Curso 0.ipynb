{
 "cells": [
  {
   "cell_type": "markdown",
   "metadata": {},
   "source": [
    "# Práctica Python Basics - Curso 0 ICAI"
   ]
  },
  {
   "cell_type": "markdown",
   "metadata": {},
   "source": [
    "## Basics"
   ]
  },
  {
   "cell_type": "code",
   "execution_count": 11,
   "metadata": {},
   "outputs": [],
   "source": [
    "import numpy as np\n",
    "import math\n",
    "import time\n",
    "import matplotlib.pyplot as plt"
   ]
  },
  {
   "cell_type": "markdown",
   "metadata": {},
   "source": [
    "## Basic numeric computations"
   ]
  },
  {
   "cell_type": "code",
   "execution_count": 3,
   "metadata": {},
   "outputs": [
    {
     "name": "stdout",
     "output_type": "stream",
     "text": [
      "1728.0\n",
      "1728\n"
     ]
    }
   ],
   "source": [
    "value = 12\n",
    "cube_1 = 12**3\n",
    "cube_2 = math.pow(value,3)\n",
    "cube_3 = np.power(value,3)\n",
    "\n",
    "print(cube_2)\n",
    "print(cube_3)"
   ]
  },
  {
   "cell_type": "markdown",
   "metadata": {},
   "source": [
    "## Loops Basics"
   ]
  },
  {
   "cell_type": "code",
   "execution_count": 6,
   "metadata": {},
   "outputs": [
    {
     "name": "stdout",
     "output_type": "stream",
     "text": [
      "0\n",
      "1\n",
      "2\n",
      "3\n",
      "4\n",
      "5\n",
      "6\n",
      "7\n",
      "8\n",
      "9\n"
     ]
    }
   ],
   "source": [
    "seconds=range(10)\n",
    "wait=1\n",
    "for i in seconds:\n",
    "    print(i)\n",
    "    time.sleep(wait)\n"
   ]
  },
  {
   "cell_type": "markdown",
   "metadata": {},
   "source": [
    "## Polynomic Functions"
   ]
  },
  {
   "cell_type": "code",
   "execution_count": 16,
   "metadata": {
    "scrolled": true
   },
   "outputs": [],
   "source": [
    "x = np.linspace(-5,5,100)\n",
    "#print(x)\n",
    "y = []\n",
    "\n",
    "for i in x:\n",
    "    y.append(math.sqrt(math.pow(i,4)+math.pow(i,3)+math.pow(i,2)+i+1))\n",
    "\n",
    "#for i in y:\n",
    "#    print(i)\n",
    "\n"
   ]
  },
  {
   "cell_type": "markdown",
   "metadata": {},
   "source": [
    "## Equation\n",
    "\n",
    "$$\\sqrt{x^4+x^3+x^2+x+1}$$"
   ]
  },
  {
   "cell_type": "markdown",
   "metadata": {},
   "source": [
    "## Same with Numpy"
   ]
  },
  {
   "cell_type": "code",
   "execution_count": 18,
   "metadata": {},
   "outputs": [],
   "source": [
    "y2 = np.sqrt(np.power(x,4)+np.power(x,3)+np.power(x,2)+x+1)\n",
    "\n",
    "#print(y2)"
   ]
  },
  {
   "cell_type": "markdown",
   "metadata": {},
   "source": [
    "Numpy works in an element by element fashion, no need to iterate through the values of x."
   ]
  },
  {
   "cell_type": "code",
   "execution_count": 19,
   "metadata": {},
   "outputs": [
    {
     "data": {
      "text/plain": [
       "[<matplotlib.lines.Line2D at 0x1d29dfc6fd0>]"
      ]
     },
     "execution_count": 19,
     "metadata": {},
     "output_type": "execute_result"
    },
    {
     "data": {
      "image/png": "[encoded data removed]",
      "text/plain": [
       "<Figure size 432x288 with 1 Axes>"
      ]
     },
     "metadata": {
      "needs_background": "light"
     },
     "output_type": "display_data"
    }
   ],
   "source": [
    "plt.plot(x,y,color =\"r\")\n",
    "plt.plot(x,y2,color=\"b\")\n"
   ]
  },
  {
   "cell_type": "code",
   "execution_count": 21,
   "metadata": {},
   "outputs": [
    {
     "data": {
      "text/plain": [
       "[<matplotlib.lines.Line2D at 0x1d29e064e80>]"
      ]
     },
     "execution_count": 21,
     "metadata": {},
     "output_type": "execute_result"
    },
    {
     "data": {
      "image/png": "[encoded data removed]",
      "text/plain": [
       "<Figure size 432x288 with 1 Axes>"
      ]
     },
     "metadata": {
      "needs_background": "light"
     },
     "output_type": "display_data"
    }
   ],
   "source": [
    "y3 = np.log10(np.power(x,4)+np.power(x,3)+np.power(x,2)+x+1)/np.log10(np.power(x,4))\n",
    "\n",
    "plt.plot(x,y3,color =\"r\")\n",
    "plt.plot(x,y2,color=\"b\")"
   ]
  },
  {
   "cell_type": "markdown",
   "metadata": {},
   "source": [
    "## Input / Output"
   ]
  },
  {
   "cell_type": "code",
   "execution_count": 29,
   "metadata": {},
   "outputs": [
    {
     "name": "stdout",
     "output_type": "stream",
     "text": [
      "Introduzca un número: 10\n",
      "Introduzca otro número: 12\n",
      "El primer número es: 10.0, el segundo: 12.0, y su media es: 11.0\n"
     ]
    }
   ],
   "source": [
    "try:\n",
    "    x1 = float(input(\"Introduzca un número: \"))\n",
    "    \n",
    "    x2 = float(input(\"Introduzca otro número: \"))\n",
    "except:\n",
    "    print(\"Tiene que ser un número\")\n",
    "\n",
    "avg = (x1+x2)/2\n",
    "print(\"El primer número es: {0}, el segundo: {1}, y su media es: {2}\".format(x1,x2,avg))"
   ]
  },
  {
   "cell_type": "markdown",
   "metadata": {},
   "source": [
    "## Programa que pida un número por teclado e indique si es par o impar"
   ]
  },
  {
   "cell_type": "code",
   "execution_count": null,
   "metadata": {},
   "outputs": [],
   "source": [
    "numero = int(input(\"Introduzca un número entero: \"))\n",
    "\n",
    "if numero%2==0:\n",
    "    print(\"El número {0} es par\".format(numero))\n",
    "    \n",
    "else:\n",
    "    print(\"El número {0} es impar\".format(numero))\n"
   ]
  },
  {
   "cell_type": "markdown",
   "metadata": {},
   "source": [
    "## Calculate price of products"
   ]
  },
  {
   "cell_type": "code",
   "execution_count": 46,
   "metadata": {},
   "outputs": [
    {
     "name": "stdout",
     "output_type": "stream",
     "text": [
      "Introduce the code of the item, 0 to exit: 123\n",
      "Introduce the price of the item: 343\n",
      "Introduce the code of the item, 0 to exit: 0\n",
      "CODE            PRICE\n",
      "=============================\n",
      "   123           343.00\n",
      "=============================\n"
     ]
    }
   ],
   "source": [
    "def display_inventory(d):\n",
    "    print(\"{:8} {:>12}\".format(\"CODE\",\"PRICE\"))\n",
    "    print(\"{:^24}\".format(\"=============================\"))\n",
    "    for k,v in d.items():\n",
    "        print(\"{:6d} {:>16.2f}\".format(k,v))\n",
    "    \n",
    "    print(\"{:^24}\".format(\"=============================\"))\n",
    "        \n",
    "\n",
    "d = {}\n",
    "code = 1\n",
    "\n",
    "while code != 0:\n",
    "    code = int(input(\"Introduce the code of the item, 0 to exit: \"))\n",
    "    if code > 0:\n",
    "        d[code] = float(input(\"Introduce the price of the item: \"))\n",
    "    elif code <0:\n",
    "        print(\"Not a valid code\")\n",
    "    else:\n",
    "        pass\n",
    "\n",
    "display_inventory(d)\n"
   ]
  },
  {
   "cell_type": "markdown",
   "metadata": {},
   "source": [
    "## Temperature Conversion"
   ]
  },
  {
   "cell_type": "markdown",
   "metadata": {},
   "source": [
    "Write a program to convert a temperature from Fahrenheit to Celsius. In order to\n",
    "convert de temperature from Fahrenheit to Celsius, we can subtract 32 from degrees F\n",
    "and divide the result by 1.8. The general formula is:\n",
    "F = (1.8) C + 32"
   ]
  },
  {
   "cell_type": "markdown",
   "metadata": {},
   "source": [
    "## Read String"
   ]
  },
  {
   "cell_type": "markdown",
   "metadata": {},
   "source": [
    "Write a program to ask the name and address of a client and display the information on the monitor."
   ]
  },
  {
   "cell_type": "markdown",
   "metadata": {},
   "source": [
    "## Calculate age of a person"
   ]
  },
  {
   "cell_type": "markdown",
   "metadata": {},
   "source": [
    "Write a program to calculate the age of a person. The program asks user to introduce the year of the birthdate and calculates the approximate age. Then, the program will display the age of the person on the monitor."
   ]
  },
  {
   "cell_type": "markdown",
   "metadata": {},
   "source": [
    "## Calculate sum of coins in Euro for exchange"
   ]
  },
  {
   "cell_type": "markdown",
   "metadata": {},
   "source": [
    "Write a program to calculate the total value of coins in Euro. The program will ask user the number of 1-cent coins, 2-cent coins, 5-cent coins, 10-cent coins, 20-cent coins and 50-cent coins and then calculates the total value in Euros. The program has to create an output on the monitor to show the number of every coin type and the total value of the coins."
   ]
  },
  {
   "cell_type": "markdown",
   "metadata": {},
   "source": []
  }
 ],
 "metadata": {
  "kernelspec": {
   "display_name": "Python 3",
   "language": "python",
   "name": "python3"
  },
  "language_info": {
   "codemirror_mode": {
    "name": "ipython",
    "version": 3
   },
   "file_extension": ".py",
   "mimetype": "text/x-python",
   "name": "python",
   "nbconvert_exporter": "python",
   "pygments_lexer": "ipython3",
   "version": "3.8.3"
  }
 },
 "nbformat": 4,
 "nbformat_minor": 4
}
